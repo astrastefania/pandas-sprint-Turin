{
 "cells": [
  {
   "cell_type": "markdown",
   "metadata": {},
   "source": [
    "# Pandas Documentation Sprint"
   ]
  },
  {
   "cell_type": "markdown",
   "metadata": {},
   "source": [
    "Guides on Youtube\n",
    "1. Pandas set up https://www.youtube.com/watch?v=417zAcfM96U\n",
    "2. Docstring guide https://www.youtube.com/watch?v=417zAcfM96U\n",
    "3. Submit https://www.youtube.com/watch?v=7eC3MjDIxNM \n",
    "    "
   ]
  },
  {
   "cell_type": "markdown",
   "metadata": {},
   "source": [
    "## The process from checking to PR\n",
    "\n",
    "https://python-sprints.github.io/pandas/guide/pandas_pr.html\n",
    "\n",
    "1. Validate that your docstring does not have technical errors\n",
    "2. Visual validation of the docstring\n",
    "3. Validate that the docstring is clear to others\n",
    "4. Commit your changes\n",
    "5. Push your changes to pandas"
   ]
  },
  {
   "cell_type": "code",
   "execution_count": null,
   "metadata": {
    "collapsed": true
   },
   "outputs": [],
   "source": []
  },
  {
   "cell_type": "markdown",
   "metadata": {},
   "source": [
    "## A good docstring\n",
    "\n",
    "Pandas doccstring guide: https://python-sprints.github.io/pandas/guide/pandas_docstring.html"
   ]
  },
  {
   "cell_type": "markdown",
   "metadata": {},
   "source": [
    "#### Good example"
   ]
  },
  {
   "cell_type": "code",
   "execution_count": 9,
   "metadata": {
    "collapsed": true
   },
   "outputs": [],
   "source": [
    "def add_values(arr):\n",
    "    \"\"\"\n",
    "    Add the values in `arr`.\n",
    "\n",
    "    This is equivalent to Python `sum` of :meth:`pandas.Series.sum`.\n",
    "\n",
    "    Some sections are omitted here for simplicity.\n",
    "    \"\"\"\n",
    "    return sum(arr)"
   ]
  },
  {
   "cell_type": "markdown",
   "metadata": {},
   "source": [
    "### Bad example"
   ]
  },
  {
   "cell_type": "code",
   "execution_count": 11,
   "metadata": {
    "collapsed": true
   },
   "outputs": [],
   "source": [
    "def func():\n",
    "\n",
    "    \"\"\"Some function.\n",
    "\n",
    "    With several mistakes in the docstring.\n",
    "\n",
    "    It has a blank like after the signature `def func():`.\n",
    "\n",
    "    The text 'Some function' should go in the line after the\n",
    "    opening quotes of the docstring, not in the same line.\n",
    "\n",
    "    There is a blank line between the docstring and the first line\n",
    "    of code `foo = 1`.\n",
    "\n",
    "    The closing quotes should be in the next line, not in this one.\"\"\"\n",
    "\n",
    "    foo = 1\n",
    "    bar = 2\n",
    "    return foo + bar"
   ]
  },
  {
   "cell_type": "code",
   "execution_count": null,
   "metadata": {
    "collapsed": true
   },
   "outputs": [],
   "source": []
  },
  {
   "cell_type": "code",
   "execution_count": null,
   "metadata": {
    "collapsed": true
   },
   "outputs": [],
   "source": []
  },
  {
   "cell_type": "code",
   "execution_count": null,
   "metadata": {
    "collapsed": true
   },
   "outputs": [],
   "source": []
  },
  {
   "cell_type": "markdown",
   "metadata": {},
   "source": [
    "### First doc string \n",
    "\n",
    "Function: pandas.MultiIndex.swaplevel  \n",
    "Type: function  \n",
    "File: pandas/core/indexes/multi.py  \n",
    "Code line: 1776  \n",
    "\n",
    "https://github.com/pandas-dev/pandas/blob/master/pandas/core/indexes/multi.py#L1776"
   ]
  },
  {
   "cell_type": "code",
   "execution_count": 4,
   "metadata": {
    "collapsed": true
   },
   "outputs": [],
   "source": [
    "def swaplevel(self, i=-2, j=-1):\n",
    "    \"\"\"\n",
    "    Swap level i with level j. \n",
    "    \n",
    "    Do not change the ordering of anything\n",
    "    \n",
    "    Parameters\n",
    "    ----------\n",
    "    i, j : int, string (can be mixed)\n",
    "        Level of index to be swapped. Can pass level name as string.\n",
    "    Returns\n",
    "    -------\n",
    "    MultiIndex\n",
    "    .. versionchanged:: 0.18.1\n",
    "       The indexes ``i`` and ``j`` are now optional, and default to\n",
    "       the two innermost levels of the index.\n",
    "    \"\"\"\n",
    "    new_levels = list(self.levels)\n",
    "    new_labels = list(self.labels)\n",
    "    new_names = list(self.names)\n",
    "\n",
    "    i = self._get_level_number(i)\n",
    "    j = self._get_level_number(j)\n",
    "\n",
    "    new_levels[i], new_levels[j] = new_levels[j], new_levels[i]\n",
    "    new_labels[i], new_labels[j] = new_labels[j], new_labels[i]\n",
    "    new_names[i], new_names[j] = new_names[j], new_names[i]\n",
    "\n",
    "    return MultiIndex(levels=new_levels, labels=new_labels,\n",
    "names=new_names, verify_integrity=False)"
   ]
  },
  {
   "cell_type": "code",
   "execution_count": null,
   "metadata": {
    "collapsed": true
   },
   "outputs": [],
   "source": []
  }
 ],
 "metadata": {
  "kernelspec": {
   "display_name": "Python 3",
   "language": "python",
   "name": "python3"
  },
  "language_info": {
   "codemirror_mode": {
    "name": "ipython",
    "version": 3
   },
   "file_extension": ".py",
   "mimetype": "text/x-python",
   "name": "python",
   "nbconvert_exporter": "python",
   "pygments_lexer": "ipython3",
   "version": "3.6.3"
  }
 },
 "nbformat": 4,
 "nbformat_minor": 2
}
